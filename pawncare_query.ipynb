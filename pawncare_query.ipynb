{
    "metadata": {
        "kernelspec": {
            "name": "SQL",
            "display_name": "SQL",
            "language": "sql"
        },
        "language_info": {
            "name": "sql",
            "version": ""
        }
    },
    "nbformat_minor": 2,
    "nbformat": 4,
    "cells": [
        {
            "cell_type": "code",
            "source": [
                "CREATE DATABASE Paw_n_Care;"
            ],
            "metadata": {
                "azdata_cell_guid": "5c56c804-81db-4a73-ad5e-e456f3b52842",
                "language": "sql"
            },
            "outputs": [
                {
                    "output_type": "error",
                    "evalue": "Msg 1801, Level 16, State 3, Line 1\nDatabase 'Paw_n_Care' already exists. Choose a different database name.",
                    "ename": "",
                    "traceback": []
                },
                {
                    "output_type": "display_data",
                    "data": {
                        "text/html": "Total execution time: 00:00:00.025"
                    },
                    "metadata": {}
                }
            ],
            "execution_count": 70
        },
        {
            "cell_type": "code",
            "source": [
                "USE Paw_n_Care;"
            ],
            "metadata": {
                "language": "sql",
                "azdata_cell_guid": "456573e9-2e3d-4ac2-9ef6-e648cec20f9d"
            },
            "outputs": [
                {
                    "output_type": "display_data",
                    "data": {
                        "text/html": "Commands completed successfully."
                    },
                    "metadata": {}
                },
                {
                    "output_type": "display_data",
                    "data": {
                        "text/html": "Total execution time: 00:00:00.007"
                    },
                    "metadata": {}
                }
            ],
            "execution_count": 75
        },
        {
            "cell_type": "markdown",
            "source": [
                "NOTE: All insert data is **ONLY AN EXAMPLE** for queries."
            ],
            "metadata": {
                "language": "sql",
                "azdata_cell_guid": "b7d59764-81cb-4084-8b5e-50af7454f7d5"
            },
            "attachments": {}
        },
        {
            "cell_type": "code",
            "source": [
                "DROP TABLE IF EXISTS billings;\n",
                "DROP TABLE IF EXISTS medical_records;\n",
                "DROP TABLE IF EXISTS appointments;\n",
                "DROP TABLE IF EXISTS pets;\n",
                "DROP TABLE IF EXISTS veterinarians;\n",
                "DROP TABLE IF EXISTS owners;"
            ],
            "metadata": {
                "language": "sql",
                "azdata_cell_guid": "a5ae1d32-4bf4-4932-902b-da24947d9903"
            },
            "outputs": [
                {
                    "output_type": "display_data",
                    "data": {
                        "text/html": "Commands completed successfully."
                    },
                    "metadata": {}
                },
                {
                    "output_type": "display_data",
                    "data": {
                        "text/html": "Total execution time: 00:00:00.004"
                    },
                    "metadata": {}
                }
            ],
            "execution_count": 76
        },
        {
            "cell_type": "code",
            "source": [
                "CREATE TABLE owners (\n",
                "    id INT PRIMARY KEY,\n",
                "    first_name VARCHAR(50) NOT NULL,\n",
                "    last_name VARCHAR(50) NOT NULL,\n",
                "    address VARCHAR(255),\n",
                "    phone_number VARCHAR(10),\n",
                "    email VARCHAR(100) UNIQUE,\n",
                "    registration_date DATETIME NOT NULL\n",
                ");"
            ],
            "metadata": {
                "language": "sql",
                "azdata_cell_guid": "288f9596-60d6-4428-8d46-9bc9554f2e11"
            },
            "outputs": [
                {
                    "output_type": "display_data",
                    "data": {
                        "text/html": "Commands completed successfully."
                    },
                    "metadata": {}
                },
                {
                    "output_type": "display_data",
                    "data": {
                        "text/html": "Total execution time: 00:00:00.014"
                    },
                    "metadata": {}
                }
            ],
            "execution_count": 77
        },
        {
            "cell_type": "code",
            "source": [
                "INSERT INTO owners (id, first_name, last_name, address, phone_number, email, registration_date)\n",
                "VALUES \n",
                "(1, 'John', 'Doe', '123 Kaset', '0987654321', 'johndoe@example.com', '2024-01-01 10:00:00'),\n",
                "(2, 'Jane', 'Smith', '456 Kaset', '0987654322', 'janesmith@example.com', '2024-02-15 14:30:00'),\n",
                "(3, 'Michael', 'Brown', '789 Kaset', '0987654323', 'michaelbrown@example.com', '2024-03-10 09:15:00'),\n",
                "(4, 'Emily', 'Davis', '321 Kaset', '0987654324', 'emilydavis@example.com', '2024-04-05 16:45:00'),\n",
                "(5, 'Sarah', 'Johnson', '654 Kaset', '0987654543', 'sarahjohnson@example.com', '2024-05-20 12:00:00');"
            ],
            "metadata": {
                "language": "sql",
                "azdata_cell_guid": "c44de19a-fca2-415a-8332-1fc8a811ee4c"
            },
            "outputs": [
                {
                    "output_type": "display_data",
                    "data": {
                        "text/html": "(5 rows affected)"
                    },
                    "metadata": {}
                },
                {
                    "output_type": "display_data",
                    "data": {
                        "text/html": "Total execution time: 00:00:00.033"
                    },
                    "metadata": {}
                }
            ],
            "execution_count": 78
        },
        {
            "cell_type": "code",
            "source": [
                "CREATE TABLE veterinarians (\n",
                "    id INT PRIMARY KEY,\n",
                "    first_name VARCHAR(50) NOT NULL,\n",
                "    last_name VARCHAR(50) NOT NULL,\n",
                "    specialization VARCHAR(100),\n",
                "    license_number VARCHAR(20) UNIQUE,\n",
                "    phone_number VARCHAR(15),\n",
                "    email VARCHAR(100) UNIQUE\n",
                ");\n",
                ""
            ],
            "metadata": {
                "language": "sql",
                "azdata_cell_guid": "0fc918b7-93c6-4092-a79b-1afb92abb8b6"
            },
            "outputs": [
                {
                    "output_type": "display_data",
                    "data": {
                        "text/html": "Commands completed successfully."
                    },
                    "metadata": {}
                },
                {
                    "output_type": "display_data",
                    "data": {
                        "text/html": "Total execution time: 00:00:00.017"
                    },
                    "metadata": {}
                }
            ],
            "execution_count": 79
        },
        {
            "cell_type": "code",
            "source": [
                "INSERT INTO veterinarians (id, first_name, last_name, specialization, license_number, phone_number, email)\n",
                "VALUES \n",
                "(1, 'Thorung', 'Boonkaew', 'Veterinary Public Health', '6510545454', '0899999999', 'thorung.b@ku.th'),\n",
                "(2, 'Atikarn', 'Kruaykriangkrai', 'Veterinary Medicine', '6510545799', '0877777777', 'atikarn.kr@ku.th'),\n",
                "(3, 'Nicha', 'Ruangrit', 'Veterinary Surgery', '6510545411', '0844444444', 'nicha.rua@ku.th'),\n",
                "(4, 'Phumrapee', 'Chaowanapricha', 'Veterinary Pathology', '6510545683', '0866666666', 'phumrapee.c@ku.th');"
            ],
            "metadata": {
                "language": "sql",
                "azdata_cell_guid": "095120fc-e8f5-4160-94d7-8cb1ccec9458"
            },
            "outputs": [
                {
                    "output_type": "display_data",
                    "data": {
                        "text/html": "(4 rows affected)"
                    },
                    "metadata": {}
                },
                {
                    "output_type": "display_data",
                    "data": {
                        "text/html": "Total execution time: 00:00:00.009"
                    },
                    "metadata": {}
                }
            ],
            "execution_count": 80
        },
        {
            "cell_type": "code",
            "source": [
                "CREATE TABLE pets (\n",
                "    id INT PRIMARY KEY,\n",
                "    owner_id INT NOT NULL,\n",
                "    name VARCHAR(50) NOT NULL,\n",
                "    species VARCHAR(50) NOT NULL,\n",
                "    breed VARCHAR(50),\n",
                "    date_of_birth DATE,\n",
                "    gender VARCHAR(10),\n",
                "    weight DECIMAL(5, 2),\n",
                "    FOREIGN KEY (owner_id) REFERENCES owners(id)\n",
                ");"
            ],
            "metadata": {
                "language": "sql",
                "azdata_cell_guid": "7187b271-5032-4b03-a416-8345b678a08a"
            },
            "outputs": [
                {
                    "output_type": "display_data",
                    "data": {
                        "text/html": "Commands completed successfully."
                    },
                    "metadata": {}
                },
                {
                    "output_type": "display_data",
                    "data": {
                        "text/html": "Total execution time: 00:00:00.009"
                    },
                    "metadata": {}
                }
            ],
            "execution_count": 81
        },
        {
            "cell_type": "code",
            "source": [
                "INSERT INTO pets (id, owner_id, name, species, breed, date_of_birth, gender, weight)\n",
                "VALUES \n",
                "(1, 1, 'Buddy', 'Dog', 'Golden Retriever', '2020-03-15', 'Male', 30.50),\n",
                "(2, 2, 'Meejai', 'Cat', 'Siamese', '2019-07-20', 'Female', 4.75),\n",
                "(3, 3, 'Tummai', 'Dog', 'Bulldog', '2018-09-05', 'Male', 25.00),\n",
                "(4, 4, 'Coco', 'Bird', 'Parrot', '2021-11-11', 'Female', 0.90),\n",
                "(5, 5, 'Charlie', 'Rabbit', 'Lop', '2022-01-22', 'Male', 2.50);"
            ],
            "metadata": {
                "language": "sql",
                "azdata_cell_guid": "61028ab0-0f75-47de-a2c5-e0bf992cf319"
            },
            "outputs": [
                {
                    "output_type": "display_data",
                    "data": {
                        "text/html": "(5 rows affected)"
                    },
                    "metadata": {}
                },
                {
                    "output_type": "display_data",
                    "data": {
                        "text/html": "Total execution time: 00:00:00.027"
                    },
                    "metadata": {}
                }
            ],
            "execution_count": 82
        },
        {
            "cell_type": "code",
            "source": [
                "CREATE TABLE appointments (\n",
                "    id INT PRIMARY KEY,\n",
                "    pet INT NOT NULL,\n",
                "    owner INT NOT NULL,\n",
                "    vet INT NOT NULL,\n",
                "    appointment_date DATE NOT NULL,\n",
                "    appointment_time TIME NOT NULL,\n",
                "    reason VARCHAR(100),\n",
                "    status VARCHAR(50) NOT NULL\n",
                "    FOREIGN KEY (pet) REFERENCES pets(id),\n",
                "    FOREIGN KEY (owner) REFERENCES owners(id)\n",
                ");"
            ],
            "metadata": {
                "language": "sql",
                "azdata_cell_guid": "92cb7800-1523-4bfc-aba8-9e2514ecd714"
            },
            "outputs": [
                {
                    "output_type": "display_data",
                    "data": {
                        "text/html": "Commands completed successfully."
                    },
                    "metadata": {}
                },
                {
                    "output_type": "display_data",
                    "data": {
                        "text/html": "Total execution time: 00:00:00.010"
                    },
                    "metadata": {}
                }
            ],
            "execution_count": 83
        },
        {
            "cell_type": "code",
            "source": [
                "INSERT INTO appointments (id, pet, owner, vet, appointment_date, appointment_time, reason, status)\n",
                "VALUES \n",
                "(1, 1, 1, 1, '2024-06-01', '10:00:00', 'Vaccination', 'Completed'),\n",
                "(2, 2, 2, 2, '2024-06-02', '14:00:00', 'Skin Check', 'Completed'),\n",
                "(3, 3, 3, 3, '2024-06-03', '09:00:00', 'Limping', 'Pending'),\n",
                "(4, 4, 4, 4, '2024-06-04', '15:30:00', 'Beak Trimming', 'Cancelled'),\n",
                "(5, 5, 5, 1, '2024-06-05', '13:45:00', 'General Checkup', 'Completed');"
            ],
            "metadata": {
                "language": "sql",
                "azdata_cell_guid": "36816902-4860-4312-85c7-816069ddc6bb"
            },
            "outputs": [
                {
                    "output_type": "display_data",
                    "data": {
                        "text/html": "(5 rows affected)"
                    },
                    "metadata": {}
                },
                {
                    "output_type": "display_data",
                    "data": {
                        "text/html": "Total execution time: 00:00:00.024"
                    },
                    "metadata": {}
                }
            ],
            "execution_count": 84
        },
        {
            "cell_type": "code",
            "source": [
                "CREATE TABLE medical_records (\n",
                "    id INT PRIMARY KEY,\n",
                "    appointment INT NOT NULL,\n",
                "    pet INT NOT NULL,\n",
                "    vet INT NOT NULL,\n",
                "    visit_date DATE NOT NULL,\n",
                "    diagnosis VARCHAR(100),\n",
                "    treatment VARCHAR(100),\n",
                "    prescribed_medication VARCHAR(200),\n",
                "    notes VARCHAR(100),\n",
                "    FOREIGN KEY (appointment) REFERENCES appointments(id),\n",
                "    FOREIGN KEY (pet) REFERENCES pets(id),\n",
                "    FOREIGN KEY (vet) REFERENCES veterinarians(id)\n",
                ");"
            ],
            "metadata": {
                "language": "sql",
                "azdata_cell_guid": "807ab783-e41f-4cb3-8ba5-abcd5a56b854",
                "tags": []
            },
            "outputs": [
                {
                    "output_type": "display_data",
                    "data": {
                        "text/html": "Commands completed successfully."
                    },
                    "metadata": {}
                },
                {
                    "output_type": "display_data",
                    "data": {
                        "text/html": "Total execution time: 00:00:00.020"
                    },
                    "metadata": {}
                }
            ],
            "execution_count": 85
        },
        {
            "cell_type": "code",
            "source": [
                "INSERT INTO medical_records (id, appointment, pet, vet, visit_date, diagnosis, treatment, prescribed_medication, notes)\n",
                "VALUES \n",
                "(1, 1, 1, 1, '2024-06-01', 'Healthy', 'Vaccination', 'Rabies Vaccine', 'Good behavior'),\n",
                "(2, 2, 2, 2, '2024-06-02', 'Dermatitis', 'Topical Cream', 'Skin Ointment', 'Follow up in 2 weeks'),\n",
                "(3, 3, 3, 3, '2024-06-03', 'Sprain', 'Rest and Anti-inflammatory', 'Pain Reliever', 'Recheck in 1 month'),\n",
                "(4, 4, 4, 4, '2024-06-04', 'Overgrown Beak', 'Trimming', NULL, 'Procedure cancelled by owner'),\n",
                "(5, 5, 5, 1, '2024-06-05', 'Healthy', 'General Exam', NULL, 'No issues detected');"
            ],
            "metadata": {
                "language": "sql",
                "azdata_cell_guid": "364d7f44-a0e8-402e-8014-9b7f305b93df"
            },
            "outputs": [
                {
                    "output_type": "display_data",
                    "data": {
                        "text/html": "(5 rows affected)"
                    },
                    "metadata": {}
                },
                {
                    "output_type": "display_data",
                    "data": {
                        "text/html": "Total execution time: 00:00:00.030"
                    },
                    "metadata": {}
                }
            ],
            "execution_count": 86
        },
        {
            "cell_type": "code",
            "source": [
                "CREATE TABLE billings (\n",
                "    id INT PRIMARY KEY,\n",
                "    appointment INT NOT NULL,\n",
                "    total_amount DECIMAL(10, 2) NOT NULL,\n",
                "    payment_status VARCHAR(20) NOT NULL,\n",
                "    payment_method VARCHAR(50),\n",
                "    payment_date DATETIME,\n",
                "    FOREIGN KEY (appointment) REFERENCES appointments(id)\n",
                ");"
            ],
            "metadata": {
                "language": "sql",
                "azdata_cell_guid": "8d68a81c-62e3-4c97-b385-a646a9dfacdf"
            },
            "outputs": [
                {
                    "output_type": "display_data",
                    "data": {
                        "text/html": "Commands completed successfully."
                    },
                    "metadata": {}
                },
                {
                    "output_type": "display_data",
                    "data": {
                        "text/html": "Total execution time: 00:00:00.011"
                    },
                    "metadata": {}
                }
            ],
            "execution_count": 87
        },
        {
            "cell_type": "code",
            "source": [
                "INSERT INTO billings (id, appointment, total_amount, payment_status, payment_method, payment_date)\n",
                "VALUES \n",
                "(1, 1, 500.00, 'Paid', 'Credit Card', '2024-06-01'),\n",
                "(2, 2, 750.00, 'Paid', 'Cash', '2024-06-02'),\n",
                "(3, 3, 1000.00, 'Paid', 'Bank Transfer', '2024-06-03'),\n",
                "(4, 4, 2000.00, 'Paid', 'Cash', '2024-06-04'),\n",
                "(5, 5, 600.00, 'Paid', 'Bank Transfer', '2024-06-05');"
            ],
            "metadata": {
                "language": "sql",
                "azdata_cell_guid": "7d2713da-fb59-4c18-88b8-9a3e65962084"
            },
            "outputs": [
                {
                    "output_type": "display_data",
                    "data": {
                        "text/html": "(5 rows affected)"
                    },
                    "metadata": {}
                },
                {
                    "output_type": "display_data",
                    "data": {
                        "text/html": "Total execution time: 00:00:00.020"
                    },
                    "metadata": {}
                }
            ],
            "execution_count": 88
        },
        {
            "cell_type": "markdown",
            "source": [
                "**More data**"
            ],
            "metadata": {
                "language": "sql",
                "azdata_cell_guid": "294b3e65-efc7-4a5d-b8f6-30a8c8e02782"
            },
            "attachments": {}
        },
        {
            "cell_type": "code",
            "source": [
                "INSERT INTO appointments (id, pet, owner, vet, appointment_date, appointment_time, reason, status)\n",
                "VALUES \n",
                "(6, 1, 1, 1, '2024-11-15', '09:00:00', 'Checkup', 'Completed'),\n",
                "(7, 2, 1, 2, '2024-11-20', '11:30:00', 'Skin Rash', 'Completed'),\n",
                "(8, 3, 2, 3, '2024-10-01', '14:00:00', 'Vaccination', 'Completed'),\n",
                "(9, 3, 2, 3, '2024-11-05', '15:30:00', 'General Checkup', 'Completed'),\n",
                "(10, 4, 4, 4, '2024-11-10', '13:00:00', 'Feather Trimming', 'Completed');"
            ],
            "metadata": {
                "language": "sql",
                "azdata_cell_guid": "5509afdd-c8dc-4ce4-b7fa-cad39675d737"
            },
            "outputs": [
                {
                    "output_type": "display_data",
                    "data": {
                        "text/html": "(5 rows affected)"
                    },
                    "metadata": {}
                },
                {
                    "output_type": "display_data",
                    "data": {
                        "text/html": "Total execution time: 00:00:00.014"
                    },
                    "metadata": {}
                }
            ],
            "execution_count": 89
        },
        {
            "cell_type": "code",
            "source": [
                "INSERT INTO billings (id, appointment, total_amount, payment_status, payment_method, payment_date)\n",
                "VALUES \n",
                "(6, 6, 1200.00, 'Paid', 'Credit Card', '2024-11-15 10:00:00'),\n",
                "(7, 7, 800.00, 'Paid', 'Cash', '2024-11-20 12:00:00'),\n",
                "(8, 8, 600.00, 'Paid', 'Credit Card', '2024-10-01 15:00:00'),\n",
                "(9, 9, 900.00, 'Paid', 'Credit Card', '2024-11-05 16:00:00'),\n",
                "(10, 10, 1000.00, 'Paid', 'Bank Transfer', '2024-11-10 14:00:00');\n",
                ""
            ],
            "metadata": {
                "language": "sql",
                "azdata_cell_guid": "3263f5f9-f448-46df-811c-561735ed3068"
            },
            "outputs": [
                {
                    "output_type": "display_data",
                    "data": {
                        "text/html": "(5 rows affected)"
                    },
                    "metadata": {}
                },
                {
                    "output_type": "display_data",
                    "data": {
                        "text/html": "Total execution time: 00:00:00.013"
                    },
                    "metadata": {}
                }
            ],
            "execution_count": 90
        },
        {
            "cell_type": "markdown",
            "source": [
                "**1\\. What is the average number of appointments scheduled per veterinarian per month?**"
            ],
            "metadata": {
                "language": "sql",
                "azdata_cell_guid": "4524593b-2641-43a5-89b1-db399889f196"
            },
            "attachments": {}
        },
        {
            "cell_type": "code",
            "source": [
                "SELECT vet, AVG(appointment_count) AS avg_appointments_per_month\n",
                "FROM (\n",
                "    SELECT vet, YEAR(appointment_date) AS year, MONTH(appointment_date) AS month, COUNT(*) AS appointment_count\n",
                "    FROM appointments\n",
                "    GROUP BY vet, YEAR(appointment_date), MONTH(appointment_date)\n",
                ") AS subquery\n",
                "GROUP BY vet;"
            ],
            "metadata": {
                "language": "sql",
                "azdata_cell_guid": "a82c0a3a-2a7f-4f76-9139-cc608b3f32b6"
            },
            "outputs": [
                {
                    "output_type": "display_data",
                    "data": {
                        "text/html": "(4 rows affected)"
                    },
                    "metadata": {}
                },
                {
                    "output_type": "display_data",
                    "data": {
                        "text/html": "Total execution time: 00:00:00.029"
                    },
                    "metadata": {}
                },
                {
                    "output_type": "execute_result",
                    "metadata": {},
                    "execution_count": 91,
                    "data": {
                        "application/vnd.dataresource+json": {
                            "schema": {
                                "fields": [
                                    {
                                        "name": "vet"
                                    },
                                    {
                                        "name": "avg_appointments_per_month"
                                    }
                                ]
                            },
                            "data": [
                                {
                                    "vet": "1",
                                    "avg_appointments_per_month": "1"
                                },
                                {
                                    "vet": "2",
                                    "avg_appointments_per_month": "1"
                                },
                                {
                                    "vet": "3",
                                    "avg_appointments_per_month": "1"
                                },
                                {
                                    "vet": "4",
                                    "avg_appointments_per_month": "1"
                                }
                            ]
                        },
                        "text/html": [
                            "<table>",
                            "<tr><th>vet</th><th>avg_appointments_per_month</th></tr>",
                            "<tr><td>1</td><td>1</td></tr>",
                            "<tr><td>2</td><td>1</td></tr>",
                            "<tr><td>3</td><td>1</td></tr>",
                            "<tr><td>4</td><td>1</td></tr>",
                            "</table>"
                        ]
                    }
                }
            ],
            "execution_count": 91
        },
        {
            "cell_type": "markdown",
            "source": [
                "**2\\. Which species of pet visits the clinic most frequently?**"
            ],
            "metadata": {
                "language": "sql",
                "azdata_cell_guid": "9b7b62ae-86d9-4283-a58f-6cf81b5d1e19"
            },
            "attachments": {}
        },
        {
            "cell_type": "code",
            "source": [
                "SELECT TOP 1 species, COUNT(*) AS visit_count\n",
                "FROM appointments\n",
                "JOIN pets ON appointments.id = pets.id\n",
                "GROUP BY species\n",
                "ORDER by visit_count DESC;"
            ],
            "metadata": {
                "language": "sql",
                "azdata_cell_guid": "a4c200ec-f12a-41f0-8278-29dac5f23e37"
            },
            "outputs": [
                {
                    "output_type": "display_data",
                    "data": {
                        "text/html": "(1 row affected)"
                    },
                    "metadata": {}
                },
                {
                    "output_type": "display_data",
                    "data": {
                        "text/html": "Total execution time: 00:00:00.023"
                    },
                    "metadata": {}
                },
                {
                    "output_type": "execute_result",
                    "metadata": {},
                    "execution_count": 92,
                    "data": {
                        "application/vnd.dataresource+json": {
                            "schema": {
                                "fields": [
                                    {
                                        "name": "species"
                                    },
                                    {
                                        "name": "visit_count"
                                    }
                                ]
                            },
                            "data": [
                                {
                                    "species": "Dog",
                                    "visit_count": "2"
                                }
                            ]
                        },
                        "text/html": [
                            "<table>",
                            "<tr><th>species</th><th>visit_count</th></tr>",
                            "<tr><td>Dog</td><td>2</td></tr>",
                            "</table>"
                        ]
                    }
                }
            ],
            "execution_count": 92
        },
        {
            "cell_type": "markdown",
            "source": [
                "**3\\. What is the sum of billings this month?**"
            ],
            "metadata": {
                "language": "sql",
                "azdata_cell_guid": "98ede153-4ad8-4b2d-899e-abef55b6a767"
            },
            "attachments": {}
        },
        {
            "cell_type": "code",
            "source": [
                "SELECT SUM(total_amount) AS total_billing_this_month\n",
                "FROM billings\n",
                "WHERE MONTH(payment_date) = MONTH(GETDATE()) \n",
                "  AND YEAR(payment_date) = YEAR(GETDATE());"
            ],
            "metadata": {
                "language": "sql",
                "azdata_cell_guid": "2f467e97-2eba-4813-a743-dd59daf58425"
            },
            "outputs": [
                {
                    "output_type": "display_data",
                    "data": {
                        "text/html": "(1 row affected)"
                    },
                    "metadata": {}
                },
                {
                    "output_type": "display_data",
                    "data": {
                        "text/html": "Total execution time: 00:00:00.029"
                    },
                    "metadata": {}
                },
                {
                    "output_type": "execute_result",
                    "metadata": {},
                    "execution_count": 93,
                    "data": {
                        "application/vnd.dataresource+json": {
                            "schema": {
                                "fields": [
                                    {
                                        "name": "total_billing_this_month"
                                    }
                                ]
                            },
                            "data": [
                                {
                                    "total_billing_this_month": "3900.00"
                                }
                            ]
                        },
                        "text/html": [
                            "<table>",
                            "<tr><th>total_billing_this_month</th></tr>",
                            "<tr><td>3900.00</td></tr>",
                            "</table>"
                        ]
                    }
                }
            ],
            "execution_count": 93
        },
        {
            "cell_type": "markdown",
            "source": [
                "**4\\. What are the top 3 diagnoses and treatments provided at the clinic?**"
            ],
            "metadata": {
                "language": "sql",
                "azdata_cell_guid": "975fa353-8b4b-4654-8eea-1f0a7398ca6c"
            },
            "attachments": {}
        },
        {
            "cell_type": "code",
            "source": [
                "WITH RankedDiagnoses AS (\n",
                "    SELECT 'Diagnosis' AS type, diagnosis AS category, COUNT(*) AS count,\n",
                "           ROW_NUMBER() OVER (ORDER BY COUNT(*) DESC) AS row_num\n",
                "    FROM medical_records\n",
                "    GROUP BY diagnosis\n",
                "),\n",
                "RankedTreatments AS (\n",
                "    SELECT 'Treatment' AS type, treatment AS category, COUNT(*) AS count,\n",
                "           ROW_NUMBER() OVER (ORDER BY COUNT(*) DESC) AS row_num\n",
                "    FROM medical_records\n",
                "    GROUP BY treatment\n",
                ")\n",
                "SELECT type, category, count\n",
                "FROM RankedDiagnoses\n",
                "WHERE row_num <= 3\n",
                "UNION\n",
                "SELECT type, category, count\n",
                "FROM RankedTreatments\n",
                "WHERE row_num <= 3\n",
                "ORDER BY count DESC;\n",
                ""
            ],
            "metadata": {
                "language": "sql",
                "azdata_cell_guid": "084bc933-2ba4-44da-927a-a899880751fc"
            },
            "outputs": [
                {
                    "output_type": "display_data",
                    "data": {
                        "text/html": "(6 rows affected)"
                    },
                    "metadata": {}
                },
                {
                    "output_type": "display_data",
                    "data": {
                        "text/html": "Total execution time: 00:00:00.038"
                    },
                    "metadata": {}
                },
                {
                    "output_type": "execute_result",
                    "metadata": {},
                    "execution_count": 94,
                    "data": {
                        "application/vnd.dataresource+json": {
                            "schema": {
                                "fields": [
                                    {
                                        "name": "type"
                                    },
                                    {
                                        "name": "category"
                                    },
                                    {
                                        "name": "count"
                                    }
                                ]
                            },
                            "data": [
                                {
                                    "type": "Diagnosis",
                                    "category": "Healthy",
                                    "count": "2"
                                },
                                {
                                    "type": "Diagnosis",
                                    "category": "Overgrown Beak",
                                    "count": "1"
                                },
                                {
                                    "type": "Diagnosis",
                                    "category": "Sprain",
                                    "count": "1"
                                },
                                {
                                    "type": "Treatment",
                                    "category": "General Exam",
                                    "count": "1"
                                },
                                {
                                    "type": "Treatment",
                                    "category": "Rest and Anti-inflammatory",
                                    "count": "1"
                                },
                                {
                                    "type": "Treatment",
                                    "category": "Topical Cream",
                                    "count": "1"
                                }
                            ]
                        },
                        "text/html": [
                            "<table>",
                            "<tr><th>type</th><th>category</th><th>count</th></tr>",
                            "<tr><td>Diagnosis</td><td>Healthy</td><td>2</td></tr>",
                            "<tr><td>Diagnosis</td><td>Overgrown Beak</td><td>1</td></tr>",
                            "<tr><td>Diagnosis</td><td>Sprain</td><td>1</td></tr>",
                            "<tr><td>Treatment</td><td>General Exam</td><td>1</td></tr>",
                            "<tr><td>Treatment</td><td>Rest and Anti-inflammatory</td><td>1</td></tr>",
                            "<tr><td>Treatment</td><td>Topical Cream</td><td>1</td></tr>",
                            "</table>"
                        ]
                    }
                }
            ],
            "execution_count": 94
        },
        {
            "cell_type": "markdown",
            "source": [
                "**5\\. Which veterinarians have the highest number of completed appointments?**"
            ],
            "metadata": {
                "language": "sql",
                "azdata_cell_guid": "5eecde4d-8edd-4945-89c6-5ec7dd34704f"
            },
            "attachments": {}
        },
        {
            "cell_type": "code",
            "source": [
                "SELECT TOP 1 vet, COUNT(*) AS completed_apm\n",
                "FROM appointments\n",
                "WHERE status = 'completed'\n",
                "GROUP BY vet\n",
                "ORDER BY completed_apm DESC;"
            ],
            "metadata": {
                "language": "sql",
                "azdata_cell_guid": "d8673257-acaf-4c1a-b710-455176342dbb"
            },
            "outputs": [
                {
                    "output_type": "display_data",
                    "data": {
                        "text/html": "(1 row affected)"
                    },
                    "metadata": {}
                },
                {
                    "output_type": "display_data",
                    "data": {
                        "text/html": "Total execution time: 00:00:00.016"
                    },
                    "metadata": {}
                },
                {
                    "output_type": "execute_result",
                    "metadata": {},
                    "execution_count": 95,
                    "data": {
                        "application/vnd.dataresource+json": {
                            "schema": {
                                "fields": [
                                    {
                                        "name": "vet"
                                    },
                                    {
                                        "name": "completed_apm"
                                    }
                                ]
                            },
                            "data": [
                                {
                                    "vet": "1",
                                    "completed_apm": "3"
                                }
                            ]
                        },
                        "text/html": [
                            "<table>",
                            "<tr><th>vet</th><th>completed_apm</th></tr>",
                            "<tr><td>1</td><td>3</td></tr>",
                            "</table>"
                        ]
                    }
                }
            ],
            "execution_count": 95
        },
        {
            "cell_type": "markdown",
            "source": [
                "**6\\. How many unique owners have returned for services more than once in the last six months?**"
            ],
            "metadata": {
                "language": "sql",
                "azdata_cell_guid": "6c753608-720b-47f5-b7ea-7e89a60d4796"
            },
            "attachments": {}
        },
        {
            "cell_type": "code",
            "source": [
                "SELECT appointments.owner, COUNT(appointments.id) AS total_appointments\n",
                "FROM appointments\n",
                "WHERE appointments.appointment_date >= DATEADD(MONTH, -6, GETDATE())\n",
                "GROUP BY appointments.owner\n",
                "HAVING COUNT(appointments.id) > 1;"
            ],
            "metadata": {
                "language": "sql",
                "azdata_cell_guid": "cd02d156-00e3-4e7a-823a-399d066726ef"
            },
            "outputs": [
                {
                    "output_type": "display_data",
                    "data": {
                        "text/html": "(3 rows affected)"
                    },
                    "metadata": {}
                },
                {
                    "output_type": "display_data",
                    "data": {
                        "text/html": "Total execution time: 00:00:00.020"
                    },
                    "metadata": {}
                },
                {
                    "output_type": "execute_result",
                    "metadata": {},
                    "execution_count": 96,
                    "data": {
                        "application/vnd.dataresource+json": {
                            "schema": {
                                "fields": [
                                    {
                                        "name": "owner"
                                    },
                                    {
                                        "name": "total_appointments"
                                    }
                                ]
                            },
                            "data": [
                                {
                                    "owner": "1",
                                    "total_appointments": "3"
                                },
                                {
                                    "owner": "2",
                                    "total_appointments": "3"
                                },
                                {
                                    "owner": "4",
                                    "total_appointments": "2"
                                }
                            ]
                        },
                        "text/html": [
                            "<table>",
                            "<tr><th>owner</th><th>total_appointments</th></tr>",
                            "<tr><td>1</td><td>3</td></tr>",
                            "<tr><td>2</td><td>3</td></tr>",
                            "<tr><td>4</td><td>2</td></tr>",
                            "</table>"
                        ]
                    }
                }
            ],
            "execution_count": 96
        },
        {
            "cell_type": "markdown",
            "source": [
                "**7\\. What percentage of appointments result in prescribed medications?**"
            ],
            "metadata": {
                "language": "sql",
                "azdata_cell_guid": "415510b7-a676-4a4b-954f-f33d35b77c1f"
            },
            "attachments": {}
        },
        {
            "cell_type": "code",
            "source": [
                "SELECT (COUNT(DISTINCT medical_records.appointment) * 100.0 / COUNT(DISTINCT appointments.id)) AS prescribed_percentage\n",
                "FROM appointments\n",
                "LEFT JOIN medical_records ON appointments.id = medical_records.appointment\n",
                "WHERE medical_records.prescribed_medication IS NOT NULL;"
            ],
            "metadata": {
                "language": "sql",
                "azdata_cell_guid": "ce360f29-0b3f-4bc0-977d-0a21ce68b823"
            },
            "outputs": [
                {
                    "output_type": "display_data",
                    "data": {
                        "text/html": "(1 row affected)"
                    },
                    "metadata": {}
                },
                {
                    "output_type": "display_data",
                    "data": {
                        "text/html": "Total execution time: 00:00:00.024"
                    },
                    "metadata": {}
                },
                {
                    "output_type": "execute_result",
                    "metadata": {},
                    "execution_count": 97,
                    "data": {
                        "application/vnd.dataresource+json": {
                            "schema": {
                                "fields": [
                                    {
                                        "name": "prescribed_percentage"
                                    }
                                ]
                            },
                            "data": [
                                {
                                    "prescribed_percentage": "100.000000000000"
                                }
                            ]
                        },
                        "text/html": [
                            "<table>",
                            "<tr><th>prescribed_percentage</th></tr>",
                            "<tr><td>100.000000000000</td></tr>",
                            "</table>"
                        ]
                    }
                }
            ],
            "execution_count": 97
        },
        {
            "cell_type": "markdown",
            "source": [
                "**8\\. What is the average billing amount per appointment?**"
            ],
            "metadata": {
                "language": "sql",
                "azdata_cell_guid": "20eac3aa-aa8a-4973-a556-4488cb126d27"
            },
            "attachments": {}
        },
        {
            "cell_type": "code",
            "source": [
                "SELECT CAST(ROUND(AVG(billings.total_amount), 2) AS DECIMAL(10, 2)) AS avg_billing\n",
                "FROM billings\n",
                "JOIN appointments ON billings.appointment = appointments.id;"
            ],
            "metadata": {
                "language": "sql",
                "azdata_cell_guid": "b8608327-0244-4f6b-b095-5f065e59e016"
            },
            "outputs": [
                {
                    "output_type": "display_data",
                    "data": {
                        "text/html": "(1 row affected)"
                    },
                    "metadata": {}
                },
                {
                    "output_type": "display_data",
                    "data": {
                        "text/html": "Total execution time: 00:00:00.021"
                    },
                    "metadata": {}
                },
                {
                    "output_type": "execute_result",
                    "metadata": {},
                    "execution_count": 98,
                    "data": {
                        "application/vnd.dataresource+json": {
                            "schema": {
                                "fields": [
                                    {
                                        "name": "avg_billing"
                                    }
                                ]
                            },
                            "data": [
                                {
                                    "avg_billing": "935.00"
                                }
                            ]
                        },
                        "text/html": [
                            "<table>",
                            "<tr><th>avg_billing</th></tr>",
                            "<tr><td>935.00</td></tr>",
                            "</table>"
                        ]
                    }
                }
            ],
            "execution_count": 98
        },
        {
            "cell_type": "markdown",
            "source": [
                "**9.** <span style=\"color: rgb(45, 83, 114); font-weight: 700; font-family: -apple-system, BlinkMacSystemFont, sans-serif;\">What are the most common reasons for appointments for each species?</span>"
            ],
            "metadata": {
                "language": "sql",
                "azdata_cell_guid": "e09d9a8c-0ea1-442b-90ad-e8470388e3d6"
            },
            "attachments": {}
        },
        {
            "cell_type": "code",
            "source": [
                "SELECT TOP 1 pets.species, appointments.reason, COUNT(*) AS reason_count\n",
                "FROM appointments\n",
                "JOIN pets ON appointments.pet = pets.id\n",
                "GROUP BY pets.species, appointments.reason\n",
                "ORDER BY reason_count DESC;"
            ],
            "metadata": {
                "language": "sql",
                "azdata_cell_guid": "bc228e07-8e0a-4e69-8f00-21a34476e18d"
            },
            "outputs": [
                {
                    "output_type": "display_data",
                    "data": {
                        "text/html": "(1 row affected)"
                    },
                    "metadata": {}
                },
                {
                    "output_type": "display_data",
                    "data": {
                        "text/html": "Total execution time: 00:00:00.042"
                    },
                    "metadata": {}
                },
                {
                    "output_type": "execute_result",
                    "metadata": {},
                    "execution_count": 99,
                    "data": {
                        "application/vnd.dataresource+json": {
                            "schema": {
                                "fields": [
                                    {
                                        "name": "species"
                                    },
                                    {
                                        "name": "reason"
                                    },
                                    {
                                        "name": "reason_count"
                                    }
                                ]
                            },
                            "data": [
                                {
                                    "species": "Dog",
                                    "reason": "Vaccination",
                                    "reason_count": "2"
                                }
                            ]
                        },
                        "text/html": [
                            "<table>",
                            "<tr><th>species</th><th>reason</th><th>reason_count</th></tr>",
                            "<tr><td>Dog</td><td>Vaccination</td><td>2</td></tr>",
                            "</table>"
                        ]
                    }
                }
            ],
            "execution_count": 99
        },
        {
            "cell_type": "markdown",
            "source": [
                "**10\\. What proportion of invoices are paid on time versus pending or overdue?**"
            ],
            "metadata": {
                "language": "sql",
                "azdata_cell_guid": "4a420eca-923c-4d9b-96e0-287831937d28"
            },
            "attachments": {}
        },
        {
            "cell_type": "code",
            "source": [
                "SELECT payment_status, COUNT(*) AS invoice_count\n",
                "FROM billings\n",
                "GROUP BY payment_status;"
            ],
            "metadata": {
                "language": "sql",
                "azdata_cell_guid": "071105d6-e66d-4d48-a3cf-0e85b61c3478"
            },
            "outputs": [
                {
                    "output_type": "display_data",
                    "data": {
                        "text/html": "(1 row affected)"
                    },
                    "metadata": {}
                },
                {
                    "output_type": "display_data",
                    "data": {
                        "text/html": "Total execution time: 00:00:00.017"
                    },
                    "metadata": {}
                },
                {
                    "output_type": "execute_result",
                    "metadata": {},
                    "execution_count": 100,
                    "data": {
                        "application/vnd.dataresource+json": {
                            "schema": {
                                "fields": [
                                    {
                                        "name": "payment_status"
                                    },
                                    {
                                        "name": "invoice_count"
                                    }
                                ]
                            },
                            "data": [
                                {
                                    "payment_status": "Paid",
                                    "invoice_count": "10"
                                }
                            ]
                        },
                        "text/html": [
                            "<table>",
                            "<tr><th>payment_status</th><th>invoice_count</th></tr>",
                            "<tr><td>Paid</td><td>10</td></tr>",
                            "</table>"
                        ]
                    }
                }
            ],
            "execution_count": 100
        },
        {
            "cell_type": "code",
            "source": [
                "SELECT\n",
                "    CAST(\n",
                "        SUM(CASE \n",
                "                WHEN billings.payment_date <= appointments.appointment_date THEN 1 \n",
                "                ELSE 0 \n",
                "            END) * 100.0 / COUNT(*) AS DECIMAL(5,2)\n",
                "    ) AS paid_on_time_percentage,\n",
                "    CAST(\n",
                "        SUM(CASE \n",
                "                WHEN billings.payment_date > appointments.appointment_date OR billings.payment_status IN ('Pending', 'Overdue') THEN 1 \n",
                "                ELSE 0 \n",
                "            END) * 100.0 / COUNT(*) AS DECIMAL(5,2)\n",
                "    ) AS pending_or_overdue_percentage\n",
                "FROM billings\n",
                "JOIN appointments ON billings.appointment = appointments.id;\n",
                ""
            ],
            "metadata": {
                "language": "sql",
                "azdata_cell_guid": "934365c9-be88-4c2b-9b7a-496802d3c5f2"
            },
            "outputs": [
                {
                    "output_type": "display_data",
                    "data": {
                        "text/html": "(1 row affected)"
                    },
                    "metadata": {}
                },
                {
                    "output_type": "display_data",
                    "data": {
                        "text/html": "Total execution time: 00:00:00.014"
                    },
                    "metadata": {}
                },
                {
                    "output_type": "execute_result",
                    "metadata": {},
                    "execution_count": 101,
                    "data": {
                        "application/vnd.dataresource+json": {
                            "schema": {
                                "fields": [
                                    {
                                        "name": "paid_on_time_percentage"
                                    },
                                    {
                                        "name": "pending_or_overdue_percentage"
                                    }
                                ]
                            },
                            "data": [
                                {
                                    "paid_on_time_percentage": "50.00",
                                    "pending_or_overdue_percentage": "50.00"
                                }
                            ]
                        },
                        "text/html": [
                            "<table>",
                            "<tr><th>paid_on_time_percentage</th><th>pending_or_overdue_percentage</th></tr>",
                            "<tr><td>50.00</td><td>50.00</td></tr>",
                            "</table>"
                        ]
                    }
                }
            ],
            "execution_count": 101
        },
        {
            "cell_type": "markdown",
            "source": [
                "**11\\. What is the average weight of pets by species?**"
            ],
            "metadata": {
                "language": "sql",
                "azdata_cell_guid": "3f311abc-8ee7-4950-8920-2dd332f97151"
            },
            "attachments": {}
        },
        {
            "cell_type": "code",
            "source": [
                "SELECT pets.species, CAST(AVG(pets.weight) AS DECIMAL(4,2)) AS avg_weight\n",
                "FROM pets\n",
                "GROUP BY pets.species;\n",
                ""
            ],
            "metadata": {
                "language": "sql",
                "azdata_cell_guid": "34a0c6b5-b2a2-46dc-b268-831d8d22884f"
            },
            "outputs": [
                {
                    "output_type": "display_data",
                    "data": {
                        "text/html": "(4 rows affected)"
                    },
                    "metadata": {}
                },
                {
                    "output_type": "display_data",
                    "data": {
                        "text/html": "Total execution time: 00:00:00.009"
                    },
                    "metadata": {}
                },
                {
                    "output_type": "execute_result",
                    "metadata": {},
                    "execution_count": 102,
                    "data": {
                        "application/vnd.dataresource+json": {
                            "schema": {
                                "fields": [
                                    {
                                        "name": "species"
                                    },
                                    {
                                        "name": "avg_weight"
                                    }
                                ]
                            },
                            "data": [
                                {
                                    "species": "Bird",
                                    "avg_weight": "0.90"
                                },
                                {
                                    "species": "Cat",
                                    "avg_weight": "4.75"
                                },
                                {
                                    "species": "Dog",
                                    "avg_weight": "27.75"
                                },
                                {
                                    "species": "Rabbit",
                                    "avg_weight": "2.50"
                                }
                            ]
                        },
                        "text/html": [
                            "<table>",
                            "<tr><th>species</th><th>avg_weight</th></tr>",
                            "<tr><td>Bird</td><td>0.90</td></tr>",
                            "<tr><td>Cat</td><td>4.75</td></tr>",
                            "<tr><td>Dog</td><td>27.75</td></tr>",
                            "<tr><td>Rabbit</td><td>2.50</td></tr>",
                            "</table>"
                        ]
                    }
                }
            ],
            "execution_count": 102
        },
        {
            "cell_type": "markdown",
            "source": [
                "**12\\. Which payment methods are most commonly used, and does this influence payment status (paid, pending, overdue)?**"
            ],
            "metadata": {
                "language": "sql",
                "azdata_cell_guid": "37d40d49-8291-4555-8d9e-7743797ebb83"
            },
            "attachments": {}
        },
        {
            "cell_type": "code",
            "source": [
                "SELECT TOP 1 payment_method, payment_status, COUNT(*) AS method_count\n",
                "FROM billings\n",
                "GROUP BY payment_method, payment_status\n",
                "ORDER BY method_count DESC;\n",
                ""
            ],
            "metadata": {
                "language": "sql",
                "azdata_cell_guid": "bae4ae1c-d104-4fad-8bb0-f01e5cdb571b"
            },
            "outputs": [
                {
                    "output_type": "display_data",
                    "data": {
                        "text/html": "(1 row affected)"
                    },
                    "metadata": {}
                },
                {
                    "output_type": "display_data",
                    "data": {
                        "text/html": "Total execution time: 00:00:00.050"
                    },
                    "metadata": {}
                },
                {
                    "output_type": "execute_result",
                    "metadata": {},
                    "execution_count": 103,
                    "data": {
                        "application/vnd.dataresource+json": {
                            "schema": {
                                "fields": [
                                    {
                                        "name": "payment_method"
                                    },
                                    {
                                        "name": "payment_status"
                                    },
                                    {
                                        "name": "method_count"
                                    }
                                ]
                            },
                            "data": [
                                {
                                    "payment_method": "Credit Card",
                                    "payment_status": "Paid",
                                    "method_count": "4"
                                }
                            ]
                        },
                        "text/html": [
                            "<table>",
                            "<tr><th>payment_method</th><th>payment_status</th><th>method_count</th></tr>",
                            "<tr><td>Credit Card</td><td>Paid</td><td>4</td></tr>",
                            "</table>"
                        ]
                    }
                }
            ],
            "execution_count": 103
        }
    ]
}